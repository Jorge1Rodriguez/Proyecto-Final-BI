{
 "cells": [
  {
   "cell_type": "markdown",
   "id": "a34c7281",
   "metadata": {},
   "source": [
    "## Importación de librerías y configuración inicial"
   ]
  },
  {
   "cell_type": "code",
   "execution_count": 50,
   "id": "d88e0884",
   "metadata": {},
   "outputs": [
    {
     "name": "stdout",
     "output_type": "stream",
     "text": [
      "Configuración cargada correctamente\n"
     ]
    }
   ],
   "source": [
    "import os\n",
    "import pandas as pd\n",
    "import requests\n",
    "from dotenv import load_dotenv\n",
    "\n",
    "load_dotenv()\n",
    "\n",
    "BASE_URL = os.getenv(\"COINGECKO_BASE_URL\")\n",
    "API_KEY = os.getenv(\"COINGECKO_API_KEY\")\n",
    "DEFAULT_CURRENCY = os.getenv(\"DEFAULT_VS_CURRENCY\")\n",
    "\n",
    "print(\"Configuración cargada correctamente\")"
   ]
  },
  {
   "cell_type": "markdown",
   "id": "a0bbf42f",
   "metadata": {},
   "source": [
    "## Función para obtener datos desde CoinGecko"
   ]
  },
  {
   "cell_type": "code",
   "execution_count": 56,
   "id": "052e8638",
   "metadata": {},
   "outputs": [],
   "source": [
    "def get_coin_data_api(coin_id: str, symbol: str, days: int | str = 180) -> pd.DataFrame:\n",
    "    url = f\"{BASE_URL}/coins/{coin_id}/market_chart\"\n",
    "    params = {\"vs_currency\": DEFAULT_CURRENCY, \"days\": days, \"x_cg_demo_api_key\": API_KEY}\n",
    "\n",
    "    response = requests.get(url, params=params)\n",
    "    response.raise_for_status()\n",
    "    data = response.json()\n",
    "\n",
    "    # Convertir las tres listas a DataFrames\n",
    "    df_price = pd.DataFrame(data[\"prices\"], columns=[\"timestamp\", \"close\"])\n",
    "    df_cap = pd.DataFrame(data[\"market_caps\"], columns=[\"timestamp\", \"market_cap\"])\n",
    "    df_vol = pd.DataFrame(data[\"total_volumes\"], columns=[\"timestamp\", \"volume\"])\n",
    "\n",
    "    # Fusionar\n",
    "    df = df_price.merge(df_cap, on=\"timestamp\").merge(df_vol, on=\"timestamp\")\n",
    "\n",
    "    # Procesamiento\n",
    "    df[\"date\"] = pd.to_datetime(df[\"timestamp\"], unit=\"ms\").dt.date\n",
    "    df[\"coin\"] = symbol\n",
    "    df[\"open\"] = df[\"close\"]\n",
    "    df[\"high\"] = df[\"close\"]\n",
    "    df[\"low\"] = df[\"close\"]\n",
    "    df[\"source\"] = \"API\"\n",
    "\n",
    "    return df[[\"date\", \"coin\", \"open\", \"high\", \"low\", \"close\", \"volume\", \"market_cap\", \"source\"]]\n"
   ]
  },
  {
   "cell_type": "markdown",
   "id": "e9212de5",
   "metadata": {},
   "source": [
    "## Función para cargar datasets locales (CSV)"
   ]
  },
  {
   "cell_type": "code",
   "execution_count": 55,
   "id": "5784c085",
   "metadata": {},
   "outputs": [],
   "source": [
    "def load_csv(path: str, symbol: str) -> pd.DataFrame:\n",
    "    df = pd.read_csv(path)\n",
    "\n",
    "    # Renombrar columnas comunes\n",
    "    rename_map = {\n",
    "        \"Date\": \"date\", \"Open\": \"open\", \"High\": \"high\", \"Low\": \"low\",\n",
    "        \"Close\": \"close\", \"Volume\": \"volume\", \"Marketcap\": \"market_cap\"\n",
    "    }\n",
    "    df.rename(columns=rename_map, inplace=True)\n",
    "\n",
    "    # Asegurar tipos correctos\n",
    "    df[\"date\"] = pd.to_datetime(df[\"date\"]).dt.date\n",
    "    df[\"coin\"] = symbol\n",
    "    df[\"source\"] = \"CSV\"\n",
    "\n",
    "    # Mantener solo columnas del esquema\n",
    "    cols = [\"date\", \"coin\", \"open\", \"high\", \"low\", \"close\", \"volume\", \"market_cap\", \"source\"]\n",
    "    for col in cols:\n",
    "        if col not in df.columns:\n",
    "            df[col] = None\n",
    "\n",
    "    return df[cols]\n"
   ]
  },
  {
   "cell_type": "markdown",
   "id": "9c7969f0",
   "metadata": {},
   "source": [
    "## Función para eliminar nulos y duplicados"
   ]
  },
  {
   "cell_type": "code",
   "execution_count": 54,
   "id": "f1522198",
   "metadata": {},
   "outputs": [],
   "source": [
    "def limpiar_datos(df: pd.DataFrame, nombre: str = \"Dataset\") -> pd.DataFrame:\n",
    "\n",
    "    print(f\"\\n Limpieza de datos para: {nombre}\")\n",
    "    print(\"-\" * 60)\n",
    "\n",
    "    registros_iniciales = len(df)\n",
    "\n",
    "    # Eliminar duplicados por 'coin' + 'date' si existen\n",
    "    if \"date\" in df.columns and \"coin\" in df.columns:\n",
    "        df = df.drop_duplicates(subset=[\"coin\", \"date\"])\n",
    "    else:\n",
    "        df = df.drop_duplicates()\n",
    "\n",
    "    # Eliminar filas completamente vacías o con valores nulos críticos\n",
    "    df = df.dropna(subset=[\"close\"], how=\"any\")\n",
    "\n",
    "    # Si una columna entera es nula, la eliminamos\n",
    "    df = df.dropna(axis=1, how=\"all\")\n",
    "\n",
    "    registros_finales = len(df)\n",
    "    eliminados = registros_iniciales - registros_finales\n",
    "\n",
    "    print(f\"Registros iniciales: {registros_iniciales:,}\")\n",
    "    print(f\"Registros eliminados: {eliminados:,}\")\n",
    "    print(f\"Registros finales: {registros_finales:,}\")\n",
    "\n",
    "    print(\"Limpieza completada.\")\n",
    "    print(\"-\" * 60)\n",
    "    return df.reset_index(drop=True)"
   ]
  },
  {
   "cell_type": "markdown",
   "id": "b3e43e03",
   "metadata": {},
   "source": [
    "## Función para validar la limpieza de los datos"
   ]
  },
  {
   "cell_type": "code",
   "execution_count": null,
   "id": "ae338458",
   "metadata": {},
   "outputs": [],
   "source": [
    "def validar_calidad_datos(df: pd.DataFrame, nombre: str = \"Dataset\") -> None:\n",
    "\n",
    "    print(f\"\\n Validación de calidad de datos para: {nombre}\")\n",
    "    print(\"-\" * 60)\n",
    "\n",
    "    # Número total de registros\n",
    "    total = len(df)\n",
    "    print(f\"Total de registros: {total:,}\")\n",
    "\n",
    "    # Nulos por columna\n",
    "    nulos = df.isnull().sum()\n",
    "    nulos_totales = nulos.sum()\n",
    "\n",
    "    if nulos_totales == 0:\n",
    "        print(\"No hay valores nulos.\")\n",
    "    else:\n",
    "        print(\"Se encontraron valores nulos:\")\n",
    "        print(nulos[nulos > 0])\n",
    "\n",
    "    # Duplicados\n",
    "    if \"date\" in df.columns and \"coin\" in df.columns:\n",
    "        duplicados = df.duplicated(subset=[\"coin\", \"date\"]).sum()\n",
    "        print(f\"Registros duplicados (por coin + date): {duplicados}\")\n",
    "    else:\n",
    "        duplicados = df.duplicated().sum()\n",
    "        print(f\"Registros duplicados (por fila completa): {duplicados}\")\n",
    "\n",
    "    # Resultado general\n",
    "    if nulos_totales == 0 and duplicados == 0:\n",
    "        print(\"Dataset limpio y listo para análisis.\")\n",
    "    else:\n",
    "        print(\"Es recomendable limpiar los datos antes de continuar.\")\n",
    "\n",
    "    print(\"-\" * 60)"
   ]
  },
  {
   "cell_type": "markdown",
   "id": "01c14221",
   "metadata": {},
   "source": [
    "## Obtener y limpiar los datos (API + CSV)"
   ]
  },
  {
   "cell_type": "code",
   "execution_count": null,
   "id": "17919b67",
   "metadata": {},
   "outputs": [
    {
     "name": "stdout",
     "output_type": "stream",
     "text": [
      "Datos cargados y procesados correctamente ✅\n"
     ]
    }
   ],
   "source": [
    "btc_api = get_coin_data_api(\"bitcoin\", \"BTC\")\n",
    "eth_api = get_coin_data_api(\"ethereum\", \"ETH\")\n",
    "bnb_api = get_coin_data_api(\"binancecoin\", \"BNB\")\n",
    "\n",
    "\n",
    "btc_csv = load_csv(\"../data/raw/coin_Bitcoin.csv\", \"BTC\")\n",
    "eth_csv = load_csv(\"../data/raw/coin_Ethereum.csv\", \"ETH\")\n",
    "bnb_csv = load_csv(\"../data/raw/coin_BinanceCoin.csv\", \"BNB\")\n",
    "\n",
    "print(\"Datos cargados y procesados correctamente\")"
   ]
  },
  {
   "cell_type": "markdown",
   "id": "43a47ea5",
   "metadata": {},
   "source": [
    "## Procesar datos"
   ]
  },
  {
   "cell_type": "code",
   "execution_count": 57,
   "id": "18843116",
   "metadata": {},
   "outputs": [
    {
     "name": "stdout",
     "output_type": "stream",
     "text": [
      "\n",
      " Limpieza de datos para: Bitcoin (API)\n",
      "------------------------------------------------------------\n",
      "Registros iniciales: 180\n",
      "Registros eliminados: 0\n",
      "Registros finales: 180\n",
      "Limpieza completada.\n",
      "------------------------------------------------------------\n",
      "\n",
      " Limpieza de datos para: Ethereum (API)\n",
      "------------------------------------------------------------\n",
      "Registros iniciales: 180\n",
      "Registros eliminados: 0\n",
      "Registros finales: 180\n",
      "Limpieza completada.\n",
      "------------------------------------------------------------\n",
      "\n",
      " Limpieza de datos para: Binance Coin (API)\n",
      "------------------------------------------------------------\n",
      "Registros iniciales: 180\n",
      "Registros eliminados: 0\n",
      "Registros finales: 180\n",
      "Limpieza completada.\n",
      "------------------------------------------------------------\n",
      "\n",
      " Limpieza de datos para: Bitcoin (CSV)\n",
      "------------------------------------------------------------\n",
      "Registros iniciales: 2,991\n",
      "Registros eliminados: 0\n",
      "Registros finales: 2,991\n",
      "Limpieza completada.\n",
      "------------------------------------------------------------\n",
      "\n",
      " Limpieza de datos para: Ethereum (CSV)\n",
      "------------------------------------------------------------\n",
      "Registros iniciales: 2,160\n",
      "Registros eliminados: 0\n",
      "Registros finales: 2,160\n",
      "Limpieza completada.\n",
      "------------------------------------------------------------\n",
      "\n",
      " Limpieza de datos para: Binance Coin (CSV)\n",
      "------------------------------------------------------------\n",
      "Registros iniciales: 1,442\n",
      "Registros eliminados: 0\n",
      "Registros finales: 1,442\n",
      "Limpieza completada.\n",
      "------------------------------------------------------------\n",
      "\n",
      " Todos los DataFrames fueron limpiados correctamente\n"
     ]
    }
   ],
   "source": [
    "btc_api = limpiar_datos(btc_api, \"Bitcoin (API)\")\n",
    "eth_api = limpiar_datos(eth_api, \"Ethereum (API)\")\n",
    "bnb_api = limpiar_datos(bnb_api, \"Binance Coin (API)\")\n",
    "\n",
    "btc_csv = limpiar_datos(btc_csv, \"Bitcoin (CSV)\")\n",
    "eth_csv = limpiar_datos(eth_csv, \"Ethereum (CSV)\")\n",
    "bnb_csv = limpiar_datos(bnb_csv, \"Binance Coin (CSV)\")\n",
    "\n",
    "print(\"\\n Todos los DataFrames fueron limpiados correctamente\")\n"
   ]
  },
  {
   "cell_type": "markdown",
   "id": "e37206d4",
   "metadata": {},
   "source": [
    "## Validar datos"
   ]
  },
  {
   "cell_type": "code",
   "execution_count": null,
   "id": "650fec40",
   "metadata": {},
   "outputs": [],
   "source": [
    "validar_calidad_datos(btc_api, \"Bitcoin (API)\")\n",
    "validar_calidad_datos(eth_api, \"Ethereum (API)\")\n",
    "validar_calidad_datos(bnb_api, \"Binance Coin (API)\")\n",
    "\n",
    "validar_calidad_datos(btc_csv, \"Bitcoin (CSV)\")\n",
    "validar_calidad_datos(eth_csv, \"Ethereum (CSV)\")\n",
    "validar_calidad_datos(bnb_csv, \"Binance Coin (CSV)\")\n"
   ]
  },
  {
   "cell_type": "markdown",
   "id": "6b0f3e4b",
   "metadata": {},
   "source": [
    "## Guardar los datasets procesados (una fuente por moneda)"
   ]
  },
  {
   "cell_type": "code",
   "execution_count": 58,
   "id": "4b8c1bb1",
   "metadata": {},
   "outputs": [
    {
     "name": "stdout",
     "output_type": "stream",
     "text": [
      "Archivos guardados en 'data/processed/'\n"
     ]
    }
   ],
   "source": [
    "os.makedirs(\"../data/processed\", exist_ok=True)\n",
    "\n",
    "btc_api.to_csv(\"../data/processed/bitcoin_api.csv\", index=False)\n",
    "eth_api.to_csv(\"../data/processed/ethereum_api.csv\", index=False)\n",
    "bnb_api.to_csv(\"../data/processed/binancecoin_api.csv\", index=False)\n",
    "\n",
    "btc_csv.to_csv(\"../data/processed/bitcoin_csv.csv\", index=False)\n",
    "eth_csv.to_csv(\"../data/processed/ethereum_csv.csv\", index=False)\n",
    "bnb_csv.to_csv(\"../data/processed/binancecoin_csv.csv\", index=False)\n",
    "\n",
    "print(\"Archivos guardados en 'data/processed/'\")"
   ]
  }
 ],
 "metadata": {
  "kernelspec": {
   "display_name": "venv",
   "language": "python",
   "name": "python3"
  },
  "language_info": {
   "codemirror_mode": {
    "name": "ipython",
    "version": 3
   },
   "file_extension": ".py",
   "mimetype": "text/x-python",
   "name": "python",
   "nbconvert_exporter": "python",
   "pygments_lexer": "ipython3",
   "version": "3.14.0"
  }
 },
 "nbformat": 4,
 "nbformat_minor": 5
}
